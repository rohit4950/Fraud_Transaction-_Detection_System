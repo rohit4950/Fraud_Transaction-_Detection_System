{
 "cells": [
  {
   "cell_type": "markdown",
   "id": "2be8e1a7",
   "metadata": {},
   "source": [
    "# EDA\n"
   ]
  },
  {
   "cell_type": "code",
   "execution_count": 1,
   "id": "61d95fdb",
   "metadata": {},
   "outputs": [],
   "source": [
    "import pandas as pd \n",
    "import numpy as np\n",
    "import matplotlib.pyplot as plt"
   ]
  },
  {
   "cell_type": "code",
   "execution_count": 2,
   "id": "232dd404",
   "metadata": {},
   "outputs": [],
   "source": [
    "df = pd.read_csv('Fraud.csv')"
   ]
  },
  {
   "cell_type": "code",
   "execution_count": 3,
   "id": "9951633e",
   "metadata": {},
   "outputs": [
    {
     "data": {
      "text/html": [
       "<div>\n",
       "<style scoped>\n",
       "    .dataframe tbody tr th:only-of-type {\n",
       "        vertical-align: middle;\n",
       "    }\n",
       "\n",
       "    .dataframe tbody tr th {\n",
       "        vertical-align: top;\n",
       "    }\n",
       "\n",
       "    .dataframe thead th {\n",
       "        text-align: right;\n",
       "    }\n",
       "</style>\n",
       "<table border=\"1\" class=\"dataframe\">\n",
       "  <thead>\n",
       "    <tr style=\"text-align: right;\">\n",
       "      <th></th>\n",
       "      <th>step</th>\n",
       "      <th>type</th>\n",
       "      <th>amount</th>\n",
       "      <th>nameOrig</th>\n",
       "      <th>oldbalanceOrg</th>\n",
       "      <th>newbalanceOrig</th>\n",
       "      <th>nameDest</th>\n",
       "      <th>oldbalanceDest</th>\n",
       "      <th>newbalanceDest</th>\n",
       "      <th>isFraud</th>\n",
       "      <th>isFlaggedFraud</th>\n",
       "    </tr>\n",
       "  </thead>\n",
       "  <tbody>\n",
       "    <tr>\n",
       "      <th>0</th>\n",
       "      <td>1</td>\n",
       "      <td>PAYMENT</td>\n",
       "      <td>9839.64</td>\n",
       "      <td>C1231006815</td>\n",
       "      <td>170136.0</td>\n",
       "      <td>160296.36</td>\n",
       "      <td>M1979787155</td>\n",
       "      <td>0.0</td>\n",
       "      <td>0.0</td>\n",
       "      <td>0</td>\n",
       "      <td>0</td>\n",
       "    </tr>\n",
       "    <tr>\n",
       "      <th>1</th>\n",
       "      <td>1</td>\n",
       "      <td>PAYMENT</td>\n",
       "      <td>1864.28</td>\n",
       "      <td>C1666544295</td>\n",
       "      <td>21249.0</td>\n",
       "      <td>19384.72</td>\n",
       "      <td>M2044282225</td>\n",
       "      <td>0.0</td>\n",
       "      <td>0.0</td>\n",
       "      <td>0</td>\n",
       "      <td>0</td>\n",
       "    </tr>\n",
       "    <tr>\n",
       "      <th>2</th>\n",
       "      <td>1</td>\n",
       "      <td>TRANSFER</td>\n",
       "      <td>181.00</td>\n",
       "      <td>C1305486145</td>\n",
       "      <td>181.0</td>\n",
       "      <td>0.00</td>\n",
       "      <td>C553264065</td>\n",
       "      <td>0.0</td>\n",
       "      <td>0.0</td>\n",
       "      <td>1</td>\n",
       "      <td>0</td>\n",
       "    </tr>\n",
       "    <tr>\n",
       "      <th>3</th>\n",
       "      <td>1</td>\n",
       "      <td>CASH_OUT</td>\n",
       "      <td>181.00</td>\n",
       "      <td>C840083671</td>\n",
       "      <td>181.0</td>\n",
       "      <td>0.00</td>\n",
       "      <td>C38997010</td>\n",
       "      <td>21182.0</td>\n",
       "      <td>0.0</td>\n",
       "      <td>1</td>\n",
       "      <td>0</td>\n",
       "    </tr>\n",
       "    <tr>\n",
       "      <th>4</th>\n",
       "      <td>1</td>\n",
       "      <td>PAYMENT</td>\n",
       "      <td>11668.14</td>\n",
       "      <td>C2048537720</td>\n",
       "      <td>41554.0</td>\n",
       "      <td>29885.86</td>\n",
       "      <td>M1230701703</td>\n",
       "      <td>0.0</td>\n",
       "      <td>0.0</td>\n",
       "      <td>0</td>\n",
       "      <td>0</td>\n",
       "    </tr>\n",
       "  </tbody>\n",
       "</table>\n",
       "</div>"
      ],
      "text/plain": [
       "   step      type    amount     nameOrig  oldbalanceOrg  newbalanceOrig  \\\n",
       "0     1   PAYMENT   9839.64  C1231006815       170136.0       160296.36   \n",
       "1     1   PAYMENT   1864.28  C1666544295        21249.0        19384.72   \n",
       "2     1  TRANSFER    181.00  C1305486145          181.0            0.00   \n",
       "3     1  CASH_OUT    181.00   C840083671          181.0            0.00   \n",
       "4     1   PAYMENT  11668.14  C2048537720        41554.0        29885.86   \n",
       "\n",
       "      nameDest  oldbalanceDest  newbalanceDest  isFraud  isFlaggedFraud  \n",
       "0  M1979787155             0.0             0.0        0               0  \n",
       "1  M2044282225             0.0             0.0        0               0  \n",
       "2   C553264065             0.0             0.0        1               0  \n",
       "3    C38997010         21182.0             0.0        1               0  \n",
       "4  M1230701703             0.0             0.0        0               0  "
      ]
     },
     "execution_count": 3,
     "metadata": {},
     "output_type": "execute_result"
    }
   ],
   "source": [
    "df.head()"
   ]
  },
  {
   "cell_type": "code",
   "execution_count": 4,
   "id": "44047a5d",
   "metadata": {},
   "outputs": [
    {
     "name": "stdout",
     "output_type": "stream",
     "text": [
      "<class 'pandas.core.frame.DataFrame'>\n",
      "RangeIndex: 6362620 entries, 0 to 6362619\n",
      "Data columns (total 11 columns):\n",
      " #   Column          Dtype  \n",
      "---  ------          -----  \n",
      " 0   step            int64  \n",
      " 1   type            object \n",
      " 2   amount          float64\n",
      " 3   nameOrig        object \n",
      " 4   oldbalanceOrg   float64\n",
      " 5   newbalanceOrig  float64\n",
      " 6   nameDest        object \n",
      " 7   oldbalanceDest  float64\n",
      " 8   newbalanceDest  float64\n",
      " 9   isFraud         int64  \n",
      " 10  isFlaggedFraud  int64  \n",
      "dtypes: float64(5), int64(3), object(3)\n",
      "memory usage: 534.0+ MB\n"
     ]
    }
   ],
   "source": [
    "df.info()"
   ]
  },
  {
   "cell_type": "code",
   "execution_count": 5,
   "id": "4f603612",
   "metadata": {},
   "outputs": [],
   "source": [
    "#Dropping uneccessary Coloumns \n",
    "df.drop(['nameOrig', 'nameDest'], axis=1, inplace=True)"
   ]
  },
  {
   "cell_type": "code",
   "execution_count": 6,
   "id": "110b200c",
   "metadata": {},
   "outputs": [
    {
     "data": {
      "text/plain": [
       "step              0\n",
       "type              0\n",
       "amount            0\n",
       "oldbalanceOrg     0\n",
       "newbalanceOrig    0\n",
       "oldbalanceDest    0\n",
       "newbalanceDest    0\n",
       "isFraud           0\n",
       "isFlaggedFraud    0\n",
       "dtype: int64"
      ]
     },
     "execution_count": 6,
     "metadata": {},
     "output_type": "execute_result"
    }
   ],
   "source": [
    "#Checking for any missing values \n",
    "df.isnull().sum()"
   ]
  },
  {
   "cell_type": "code",
   "execution_count": 7,
   "id": "72f84ea8",
   "metadata": {},
   "outputs": [
    {
     "name": "stdout",
     "output_type": "stream",
     "text": [
      "isFraud\n",
      "0    6354407\n",
      "1       8213\n",
      "Name: count, dtype: int64\n"
     ]
    },
    {
     "data": {
      "image/png": "[encoded data removed]",
      "text/plain": [
       "<Figure size 640x480 with 1 Axes>"
      ]
     },
     "metadata": {},
     "output_type": "display_data"
    }
   ],
   "source": [
    "#Analysing the fraud count for better approach\n",
    "\n",
    "print(df['isFraud'].value_counts())\n",
    "df['isFraud'].value_counts().plot(kind='bar', title='Fraud vs Non‑Fraud'); plt.show()\n"
   ]
  },
  {
   "cell_type": "code",
   "execution_count": 8,
   "id": "ae5d16e5",
   "metadata": {},
   "outputs": [
    {
     "name": "stdout",
     "output_type": "stream",
     "text": [
      "\n",
      "Fraud rate by type:\n",
      " type\n",
      "TRANSFER    0.007688\n",
      "CASH_OUT    0.001840\n",
      "CASH_IN     0.000000\n",
      "DEBIT       0.000000\n",
      "PAYMENT     0.000000\n",
      "Name: isFraud, dtype: float64\n"
     ]
    },
    {
     "data": {
      "image/png": "[encoded data removed]",
      "text/plain": [
       "<Figure size 640x480 with 1 Axes>"
      ]
     },
     "metadata": {},
     "output_type": "display_data"
    }
   ],
   "source": [
    "# Fraud rate by type\n",
    "fraud_rate = df.groupby('type')['isFraud'].mean().sort_values(ascending=False)\n",
    "print(\"\\nFraud rate by type:\\n\", fraud_rate)\n",
    "fraud_rate.plot(kind='bar', title='Fraud Rate by Transaction Type'); plt.show()\n"
   ]
  },
  {
   "cell_type": "markdown",
   "id": "83bf887f",
   "metadata": {},
   "source": [
    "We can notice that most of the frauds are occured in TRANSFER and CASH_OUT\n"
   ]
  },
  {
   "cell_type": "markdown",
   "id": "3d8a2e2f",
   "metadata": {},
   "source": [
    "# Feature Engineering "
   ]
  },
  {
   "cell_type": "code",
   "execution_count": 9,
   "id": "cd7f27c3",
   "metadata": {
    "scrolled": true
   },
   "outputs": [],
   "source": [
    "#Creating new coloumns \n",
    "\n",
    "#Checking error in balance for inconsistencies \n",
    "\n",
    "df['errorBalanceOrig'] = df['oldbalanceOrg'] - df['newbalanceOrig'] - df['amount']\n",
    "df['errorBalanceDest'] = df['newbalanceDest'] - df['oldbalanceDest'] - df['amount']\n",
    "\n",
    "#Dropping raw amount columns \n",
    "\n",
    "df.drop(['oldbalanceOrg', 'newbalanceOrig', 'oldbalanceDest', 'newbalanceDest'],axis=1,inplace=True)\n",
    "\n"
   ]
  },
  {
   "cell_type": "code",
   "execution_count": 10,
   "id": "e92e0bdb",
   "metadata": {},
   "outputs": [
    {
     "data": {
      "text/plain": [
       "(6362620, 7)"
      ]
     },
     "execution_count": 10,
     "metadata": {},
     "output_type": "execute_result"
    }
   ],
   "source": [
    "df.head()\n",
    "\n",
    "df.shape"
   ]
  },
  {
   "cell_type": "code",
   "execution_count": 11,
   "id": "393deee7",
   "metadata": {},
   "outputs": [
    {
     "name": "stdout",
     "output_type": "stream",
     "text": [
      "0           0.103566\n",
      "1           0.121629\n",
      "2           0.125442\n",
      "3           0.077468\n",
      "4           0.099425\n",
      "             ...    \n",
      "6362615     0.125852\n",
      "6362616   -14.168595\n",
      "6362617     0.125852\n",
      "6362618    -1.799283\n",
      "6362619     0.125852\n",
      "Name: Z-Score, Length: 6362620, dtype: float64\n"
     ]
    }
   ],
   "source": [
    "#Dealing with outliers \n",
    "\n",
    "#Using Z-score \n",
    "\n",
    "df[\"Z-Score\"] = (df[\"errorBalanceDest\"] - df[\"errorBalanceDest\"].mean())/df[\"errorBalanceDest\"].std()\n",
    "\n",
    "print(df[\"Z-Score\"])\n",
    "\n"
   ]
  },
  {
   "cell_type": "code",
   "execution_count": 12,
   "id": "29e34329",
   "metadata": {},
   "outputs": [],
   "source": [
    "mean = df[\"errorBalanceDest\"].mean()\n",
    "\n",
    "SD = df[\"errorBalanceDest\"].std()\n",
    "\n",
    "Highest = mean + 3*SD \n",
    "\n",
    "Lowest = mean - 3*SD\n"
   ]
  },
  {
   "cell_type": "code",
   "execution_count": 13,
   "id": "7b5f3bdb",
   "metadata": {},
   "outputs": [],
   "source": [
    "df = df[(df[\"errorBalanceDest\"] > Lowest) & (df[\"errorBalanceDest\"] < Highest)]"
   ]
  },
  {
   "cell_type": "code",
   "execution_count": 14,
   "id": "3d166317",
   "metadata": {},
   "outputs": [
    {
     "data": {
      "text/html": [
       "<div>\n",
       "<style scoped>\n",
       "    .dataframe tbody tr th:only-of-type {\n",
       "        vertical-align: middle;\n",
       "    }\n",
       "\n",
       "    .dataframe tbody tr th {\n",
       "        vertical-align: top;\n",
       "    }\n",
       "\n",
       "    .dataframe thead th {\n",
       "        text-align: right;\n",
       "    }\n",
       "</style>\n",
       "<table border=\"1\" class=\"dataframe\">\n",
       "  <thead>\n",
       "    <tr style=\"text-align: right;\">\n",
       "      <th></th>\n",
       "      <th>step</th>\n",
       "      <th>type</th>\n",
       "      <th>amount</th>\n",
       "      <th>isFraud</th>\n",
       "      <th>isFlaggedFraud</th>\n",
       "      <th>errorBalanceOrig</th>\n",
       "      <th>errorBalanceDest</th>\n",
       "    </tr>\n",
       "  </thead>\n",
       "  <tbody>\n",
       "    <tr>\n",
       "      <th>0</th>\n",
       "      <td>1</td>\n",
       "      <td>PAYMENT</td>\n",
       "      <td>9839.64</td>\n",
       "      <td>0</td>\n",
       "      <td>0</td>\n",
       "      <td>1.455192e-11</td>\n",
       "      <td>-9.839640e+03</td>\n",
       "    </tr>\n",
       "    <tr>\n",
       "      <th>1</th>\n",
       "      <td>1</td>\n",
       "      <td>PAYMENT</td>\n",
       "      <td>1864.28</td>\n",
       "      <td>0</td>\n",
       "      <td>0</td>\n",
       "      <td>-1.136868e-12</td>\n",
       "      <td>-1.864280e+03</td>\n",
       "    </tr>\n",
       "    <tr>\n",
       "      <th>2</th>\n",
       "      <td>1</td>\n",
       "      <td>TRANSFER</td>\n",
       "      <td>181.00</td>\n",
       "      <td>1</td>\n",
       "      <td>0</td>\n",
       "      <td>0.000000e+00</td>\n",
       "      <td>-1.810000e+02</td>\n",
       "    </tr>\n",
       "    <tr>\n",
       "      <th>3</th>\n",
       "      <td>1</td>\n",
       "      <td>CASH_OUT</td>\n",
       "      <td>181.00</td>\n",
       "      <td>1</td>\n",
       "      <td>0</td>\n",
       "      <td>0.000000e+00</td>\n",
       "      <td>-2.136300e+04</td>\n",
       "    </tr>\n",
       "    <tr>\n",
       "      <th>4</th>\n",
       "      <td>1</td>\n",
       "      <td>PAYMENT</td>\n",
       "      <td>11668.14</td>\n",
       "      <td>0</td>\n",
       "      <td>0</td>\n",
       "      <td>0.000000e+00</td>\n",
       "      <td>-1.166814e+04</td>\n",
       "    </tr>\n",
       "    <tr>\n",
       "      <th>...</th>\n",
       "      <td>...</td>\n",
       "      <td>...</td>\n",
       "      <td>...</td>\n",
       "      <td>...</td>\n",
       "      <td>...</td>\n",
       "      <td>...</td>\n",
       "      <td>...</td>\n",
       "    </tr>\n",
       "    <tr>\n",
       "      <th>6362614</th>\n",
       "      <td>743</td>\n",
       "      <td>TRANSFER</td>\n",
       "      <td>339682.13</td>\n",
       "      <td>1</td>\n",
       "      <td>0</td>\n",
       "      <td>0.000000e+00</td>\n",
       "      <td>-3.396821e+05</td>\n",
       "    </tr>\n",
       "    <tr>\n",
       "      <th>6362615</th>\n",
       "      <td>743</td>\n",
       "      <td>CASH_OUT</td>\n",
       "      <td>339682.13</td>\n",
       "      <td>1</td>\n",
       "      <td>0</td>\n",
       "      <td>0.000000e+00</td>\n",
       "      <td>0.000000e+00</td>\n",
       "    </tr>\n",
       "    <tr>\n",
       "      <th>6362617</th>\n",
       "      <td>743</td>\n",
       "      <td>CASH_OUT</td>\n",
       "      <td>6311409.28</td>\n",
       "      <td>1</td>\n",
       "      <td>0</td>\n",
       "      <td>0.000000e+00</td>\n",
       "      <td>-1.000000e-02</td>\n",
       "    </tr>\n",
       "    <tr>\n",
       "      <th>6362618</th>\n",
       "      <td>743</td>\n",
       "      <td>TRANSFER</td>\n",
       "      <td>850002.52</td>\n",
       "      <td>1</td>\n",
       "      <td>0</td>\n",
       "      <td>0.000000e+00</td>\n",
       "      <td>-8.500025e+05</td>\n",
       "    </tr>\n",
       "    <tr>\n",
       "      <th>6362619</th>\n",
       "      <td>743</td>\n",
       "      <td>CASH_OUT</td>\n",
       "      <td>850002.52</td>\n",
       "      <td>1</td>\n",
       "      <td>0</td>\n",
       "      <td>0.000000e+00</td>\n",
       "      <td>-4.656613e-10</td>\n",
       "    </tr>\n",
       "  </tbody>\n",
       "</table>\n",
       "<p>6344008 rows × 7 columns</p>\n",
       "</div>"
      ],
      "text/plain": [
       "         step      type      amount  isFraud  isFlaggedFraud  \\\n",
       "0           1   PAYMENT     9839.64        0               0   \n",
       "1           1   PAYMENT     1864.28        0               0   \n",
       "2           1  TRANSFER      181.00        1               0   \n",
       "3           1  CASH_OUT      181.00        1               0   \n",
       "4           1   PAYMENT    11668.14        0               0   \n",
       "...       ...       ...         ...      ...             ...   \n",
       "6362614   743  TRANSFER   339682.13        1               0   \n",
       "6362615   743  CASH_OUT   339682.13        1               0   \n",
       "6362617   743  CASH_OUT  6311409.28        1               0   \n",
       "6362618   743  TRANSFER   850002.52        1               0   \n",
       "6362619   743  CASH_OUT   850002.52        1               0   \n",
       "\n",
       "         errorBalanceOrig  errorBalanceDest  \n",
       "0            1.455192e-11     -9.839640e+03  \n",
       "1           -1.136868e-12     -1.864280e+03  \n",
       "2            0.000000e+00     -1.810000e+02  \n",
       "3            0.000000e+00     -2.136300e+04  \n",
       "4            0.000000e+00     -1.166814e+04  \n",
       "...                   ...               ...  \n",
       "6362614      0.000000e+00     -3.396821e+05  \n",
       "6362615      0.000000e+00      0.000000e+00  \n",
       "6362617      0.000000e+00     -1.000000e-02  \n",
       "6362618      0.000000e+00     -8.500025e+05  \n",
       "6362619      0.000000e+00     -4.656613e-10  \n",
       "\n",
       "[6344008 rows x 7 columns]"
      ]
     },
     "execution_count": 14,
     "metadata": {},
     "output_type": "execute_result"
    }
   ],
   "source": [
    "df.drop(['Z-Score'],axis=1)"
   ]
  },
  {
   "cell_type": "code",
   "execution_count": 15,
   "id": "83e59cd1",
   "metadata": {},
   "outputs": [],
   "source": [
    "#Seperate Features and Target \n",
    "\n",
    "X = df.drop(['isFraud', 'isFlaggedFraud'], axis=1)\n",
    "y = df['isFraud']\n"
   ]
  },
  {
   "cell_type": "markdown",
   "id": "2c61f093",
   "metadata": {},
   "source": [
    "# Coloumn Transformers and model Training "
   ]
  },
  {
   "cell_type": "code",
   "execution_count": 16,
   "id": "834285e2",
   "metadata": {},
   "outputs": [],
   "source": [
    "numeric_cols     = ['step', 'amount', 'errorBalanceOrig', 'errorBalanceDest']\n",
    "categorical_cols = ['type']\n",
    " \n",
    "\n",
    "from sklearn.compose import ColumnTransformer\n",
    "from sklearn.pipeline import Pipeline\n",
    "from sklearn.preprocessing import OneHotEncoder\n",
    "from sklearn.preprocessing import StandardScaler\n"
   ]
  },
  {
   "cell_type": "code",
   "execution_count": 17,
   "id": "354e4e87",
   "metadata": {},
   "outputs": [],
   "source": [
    "#Train,test split the data \n",
    "from sklearn.model_selection import train_test_split\n",
    "\n",
    "X_train, X_test, y_train, y_test = train_test_split(X,y,test_size=0.2,stratify=y,random_state=42)\n"
   ]
  },
  {
   "cell_type": "code",
   "execution_count": 18,
   "id": "ac712a25",
   "metadata": {},
   "outputs": [
    {
     "data": {
      "text/html": [
       "<div>\n",
       "<style scoped>\n",
       "    .dataframe tbody tr th:only-of-type {\n",
       "        vertical-align: middle;\n",
       "    }\n",
       "\n",
       "    .dataframe tbody tr th {\n",
       "        vertical-align: top;\n",
       "    }\n",
       "\n",
       "    .dataframe thead th {\n",
       "        text-align: right;\n",
       "    }\n",
       "</style>\n",
       "<table border=\"1\" class=\"dataframe\">\n",
       "  <thead>\n",
       "    <tr style=\"text-align: right;\">\n",
       "      <th></th>\n",
       "      <th>step</th>\n",
       "      <th>type</th>\n",
       "      <th>amount</th>\n",
       "      <th>errorBalanceOrig</th>\n",
       "      <th>errorBalanceDest</th>\n",
       "      <th>Z-Score</th>\n",
       "    </tr>\n",
       "  </thead>\n",
       "  <tbody>\n",
       "    <tr>\n",
       "      <th>6076915</th>\n",
       "      <td>518</td>\n",
       "      <td>CASH_OUT</td>\n",
       "      <td>44731.21</td>\n",
       "      <td>-4.473121e+04</td>\n",
       "      <td>-3.637979e-11</td>\n",
       "      <td>0.125852</td>\n",
       "    </tr>\n",
       "    <tr>\n",
       "      <th>3977175</th>\n",
       "      <td>297</td>\n",
       "      <td>CASH_OUT</td>\n",
       "      <td>132752.41</td>\n",
       "      <td>-1.327524e+05</td>\n",
       "      <td>-8.731149e-11</td>\n",
       "      <td>0.125852</td>\n",
       "    </tr>\n",
       "    <tr>\n",
       "      <th>5513842</th>\n",
       "      <td>380</td>\n",
       "      <td>PAYMENT</td>\n",
       "      <td>3682.58</td>\n",
       "      <td>0.000000e+00</td>\n",
       "      <td>-3.682580e+03</td>\n",
       "      <td>0.117511</td>\n",
       "    </tr>\n",
       "    <tr>\n",
       "      <th>754065</th>\n",
       "      <td>38</td>\n",
       "      <td>PAYMENT</td>\n",
       "      <td>5969.39</td>\n",
       "      <td>-9.094947e-13</td>\n",
       "      <td>-5.969390e+03</td>\n",
       "      <td>0.112332</td>\n",
       "    </tr>\n",
       "    <tr>\n",
       "      <th>1289600</th>\n",
       "      <td>135</td>\n",
       "      <td>PAYMENT</td>\n",
       "      <td>59748.48</td>\n",
       "      <td>7.275958e-12</td>\n",
       "      <td>-5.974848e+04</td>\n",
       "      <td>-0.009470</td>\n",
       "    </tr>\n",
       "    <tr>\n",
       "      <th>...</th>\n",
       "      <td>...</td>\n",
       "      <td>...</td>\n",
       "      <td>...</td>\n",
       "      <td>...</td>\n",
       "      <td>...</td>\n",
       "      <td>...</td>\n",
       "    </tr>\n",
       "    <tr>\n",
       "      <th>4907382</th>\n",
       "      <td>349</td>\n",
       "      <td>PAYMENT</td>\n",
       "      <td>17303.18</td>\n",
       "      <td>-7.725180e+03</td>\n",
       "      <td>-1.730318e+04</td>\n",
       "      <td>0.086663</td>\n",
       "    </tr>\n",
       "    <tr>\n",
       "      <th>2757965</th>\n",
       "      <td>212</td>\n",
       "      <td>TRANSFER</td>\n",
       "      <td>272883.57</td>\n",
       "      <td>-2.585401e+05</td>\n",
       "      <td>5.820766e-11</td>\n",
       "      <td>0.125852</td>\n",
       "    </tr>\n",
       "    <tr>\n",
       "      <th>3080625</th>\n",
       "      <td>235</td>\n",
       "      <td>CASH_OUT</td>\n",
       "      <td>91792.24</td>\n",
       "      <td>-9.179224e+04</td>\n",
       "      <td>-1.455192e-11</td>\n",
       "      <td>0.125852</td>\n",
       "    </tr>\n",
       "    <tr>\n",
       "      <th>2325707</th>\n",
       "      <td>188</td>\n",
       "      <td>CASH_OUT</td>\n",
       "      <td>173110.93</td>\n",
       "      <td>-1.232879e+05</td>\n",
       "      <td>0.000000e+00</td>\n",
       "      <td>0.125852</td>\n",
       "    </tr>\n",
       "    <tr>\n",
       "      <th>4413819</th>\n",
       "      <td>322</td>\n",
       "      <td>CASH_OUT</td>\n",
       "      <td>339878.85</td>\n",
       "      <td>-3.398788e+05</td>\n",
       "      <td>-1.164153e-10</td>\n",
       "      <td>0.125852</td>\n",
       "    </tr>\n",
       "  </tbody>\n",
       "</table>\n",
       "<p>5075206 rows × 6 columns</p>\n",
       "</div>"
      ],
      "text/plain": [
       "         step      type     amount  errorBalanceOrig  errorBalanceDest  \\\n",
       "6076915   518  CASH_OUT   44731.21     -4.473121e+04     -3.637979e-11   \n",
       "3977175   297  CASH_OUT  132752.41     -1.327524e+05     -8.731149e-11   \n",
       "5513842   380   PAYMENT    3682.58      0.000000e+00     -3.682580e+03   \n",
       "754065     38   PAYMENT    5969.39     -9.094947e-13     -5.969390e+03   \n",
       "1289600   135   PAYMENT   59748.48      7.275958e-12     -5.974848e+04   \n",
       "...       ...       ...        ...               ...               ...   \n",
       "4907382   349   PAYMENT   17303.18     -7.725180e+03     -1.730318e+04   \n",
       "2757965   212  TRANSFER  272883.57     -2.585401e+05      5.820766e-11   \n",
       "3080625   235  CASH_OUT   91792.24     -9.179224e+04     -1.455192e-11   \n",
       "2325707   188  CASH_OUT  173110.93     -1.232879e+05      0.000000e+00   \n",
       "4413819   322  CASH_OUT  339878.85     -3.398788e+05     -1.164153e-10   \n",
       "\n",
       "          Z-Score  \n",
       "6076915  0.125852  \n",
       "3977175  0.125852  \n",
       "5513842  0.117511  \n",
       "754065   0.112332  \n",
       "1289600 -0.009470  \n",
       "...           ...  \n",
       "4907382  0.086663  \n",
       "2757965  0.125852  \n",
       "3080625  0.125852  \n",
       "2325707  0.125852  \n",
       "4413819  0.125852  \n",
       "\n",
       "[5075206 rows x 6 columns]"
      ]
     },
     "execution_count": 18,
     "metadata": {},
     "output_type": "execute_result"
    }
   ],
   "source": [
    "X_train"
   ]
  },
  {
   "cell_type": "code",
   "execution_count": 19,
   "id": "e4cd9c35",
   "metadata": {},
   "outputs": [
    {
     "data": {
      "text/plain": [
       "3860431    0\n",
       "711203     0\n",
       "2652557    0\n",
       "4795296    0\n",
       "5396128    0\n",
       "          ..\n",
       "2995767    0\n",
       "1417804    0\n",
       "5896907    0\n",
       "3789668    0\n",
       "5669361    0\n",
       "Name: isFraud, Length: 1268802, dtype: int64"
      ]
     },
     "execution_count": 19,
     "metadata": {},
     "output_type": "execute_result"
    }
   ],
   "source": [
    "y_test"
   ]
  },
  {
   "cell_type": "code",
   "execution_count": 20,
   "id": "2f8d7519",
   "metadata": {},
   "outputs": [],
   "source": [
    "preprocessor = ColumnTransformer(\n",
    "    transformers=[\n",
    "        ('ohe', OneHotEncoder(drop='first'), categorical_cols),\n",
    "        ('scaler', StandardScaler(),numeric_cols)\n",
    "    ]\n",
    ")"
   ]
  },
  {
   "cell_type": "code",
   "execution_count": 21,
   "id": "56bf94e5",
   "metadata": {},
   "outputs": [],
   "source": [
    "X_train_processed = preprocessor.fit_transform(X_train)\n",
    "X_test_processed  = preprocessor.transform(X_test)\n"
   ]
  },
  {
   "cell_type": "code",
   "execution_count": 22,
   "id": "74785657",
   "metadata": {},
   "outputs": [
    {
     "data": {
      "text/plain": [
       "array([[ 1.        ,  0.        ,  0.        , ..., -0.23317217,\n",
       "         0.26897622,  0.36029966],\n",
       "       [ 1.        ,  0.        ,  0.        , ..., -0.07445617,\n",
       "         0.11236118,  0.36029966],\n",
       "       [ 0.        ,  0.        ,  1.        , ..., -0.30718928,\n",
       "         0.34856591,  0.34002625],\n",
       "       ...,\n",
       "       [ 1.        ,  0.        ,  0.        , ..., -0.14831377,\n",
       "         0.18524111,  0.36029966],\n",
       "       [ 1.        ,  0.        ,  0.        , ..., -0.00168344,\n",
       "         0.12920121,  0.36029966],\n",
       "       [ 1.        ,  0.        ,  0.        , ...,  0.29902522,\n",
       "        -0.25617635,  0.36029966]])"
      ]
     },
     "execution_count": 22,
     "metadata": {},
     "output_type": "execute_result"
    }
   ],
   "source": [
    "X_train_processed "
   ]
  },
  {
   "cell_type": "code",
   "execution_count": 23,
   "id": "2e49a003",
   "metadata": {},
   "outputs": [],
   "source": [
    "from sklearn.linear_model import LogisticRegression\n",
    "\n",
    "\n",
    "\n",
    "#Logistic Regression Pipeline \n",
    "\n",
    "pipe = Pipeline([\n",
    "    (\"preproc\", preprocessor),\n",
    "    (\"clf\",     LogisticRegression(class_weight='balanced',\n",
    "                                   max_iter=1000,\n",
    "                                   random_state=42))\n",
    "])\n",
    "\n",
    "\n"
   ]
  },
  {
   "cell_type": "markdown",
   "id": "4ba61cc7",
   "metadata": {},
   "source": [
    "Model Tuning "
   ]
  },
  {
   "cell_type": "code",
   "execution_count": 24,
   "id": "8dd1f0ba",
   "metadata": {},
   "outputs": [],
   "source": [
    "\n",
    "\n",
    "\n",
    "from sklearn.model_selection import  RandomizedSearchCV\n",
    "\n",
    "param_dist = {\n",
    "    \"clf__C\":       [0.01, 0.1, 1, 10, 100],\n",
    "    \"clf__solver\":  [\"liblinear\", \"lbfgs\"],\n",
    "    \"clf__penalty\": [\"l2\"]\n",
    "}\n",
    "\n",
    "search = RandomizedSearchCV(\n",
    "    estimator=pipe,\n",
    "    param_distributions=param_dist,\n",
    "    n_iter=10,\n",
    "    cv=3,\n",
    "    scoring=\"roc_auc\",\n",
    "    n_jobs=-1,\n",
    "    verbose=1,\n",
    "    random_state=42\n",
    ")"
   ]
  },
  {
   "cell_type": "code",
   "execution_count": null,
   "id": "484e292a",
   "metadata": {},
   "outputs": [
    {
     "name": "stdout",
     "output_type": "stream",
     "text": [
      "Fitting 3 folds for each of 10 candidates, totalling 30 fits\n"
     ]
    }
   ],
   "source": [
    "search.fit(X_train, y_train)\n",
    "\n",
    "best_lr = search.best_estimator_\n",
    "print(\"Best hyperparameters:\", search.best_params_)\n",
    "\n",
    "y_pred  = best_lr.predict(X_test)\n",
    "y_proba = best_lr.predict_proba(X_test)[:, 1]\n"
   ]
  },
  {
   "cell_type": "code",
   "execution_count": null,
   "id": "152e7926",
   "metadata": {},
   "outputs": [],
   "source": [
    "\n",
    "print(\"\\n=== Classification Report ===\")\n",
    "print(classification_report(y_test, y_pred))\n",
    "print(f\"ROC AUC Score: {roc_auc_score(y_test, y_proba):.4f}\")\n"
   ]
  },
  {
   "cell_type": "code",
   "execution_count": null,
   "id": "c051f608",
   "metadata": {},
   "outputs": [],
   "source": [
    "\n",
    "cm = confusion_matrix(y_test, y_pred)\n",
    "ConfusionMatrixDisplay(cm, display_labels=[0,1]).plot(cmap=plt.cm.Blues)\n",
    "plt.title(\"Logistic Regression Confusion Matrix\")\n",
    "plt.show()\n"
   ]
  },
  {
   "cell_type": "code",
   "execution_count": null,
   "id": "e3e256db",
   "metadata": {},
   "outputs": [],
   "source": [
    "auc = roc_auc_score(y_test, y_proba)\n",
    "print(f\"ROC AUC: {auc:.4f}\")"
   ]
  }
 ],
 "metadata": {
  "kernelspec": {
   "display_name": "myenv",
   "language": "python",
   "name": "python3"
  },
  "language_info": {
   "codemirror_mode": {
    "name": "ipython",
    "version": 3
   },
   "file_extension": ".py",
   "mimetype": "text/x-python",
   "name": "python",
   "nbconvert_exporter": "python",
   "pygments_lexer": "ipython3",
   "version": "3.10.16"
  }
 },
 "nbformat": 4,
 "nbformat_minor": 5
}
